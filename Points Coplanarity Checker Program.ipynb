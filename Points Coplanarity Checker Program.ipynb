{
 "cells": [
  {
   "cell_type": "markdown",
   "id": "51b01046",
   "metadata": {},
   "source": [
    "### Coplanarity Checker Program "
   ]
  },
  {
   "cell_type": "code",
   "execution_count": 1,
   "id": "b9b428d1",
   "metadata": {},
   "outputs": [
    {
     "name": "stdout",
     "output_type": "stream",
     "text": [
      "Not Coplanar\n"
     ]
    }
   ],
   "source": [
    "# Python program to check if 4 points in a 3-D plane are Coplanar\n",
    "# Function to find equation of plane.\n",
    "\n",
    "def equation_plane(x1, y1, z1, x2, y2, z2, x3, y3, z3, x, y, z):\n",
    "     \n",
    "    a1 = x2 - x1\n",
    "    b1 = y2 - y1\n",
    "    c1 = z2 - z1\n",
    "    a2 = x3 - x1\n",
    "    b2 = y3 - y1\n",
    "    c2 = z3 - z1\n",
    "    a = b1 * c2 - b2 * c1\n",
    "    b = a2 * c1 - a1 * c2\n",
    "    c = a1 * b2 - b1 * a2\n",
    "    d = (- a * x1 - b * y1 - c * z1)\n",
    "     \n",
    "    # Equation of plane is: a*x + b*y + c*z = 0. Checking if the 4th point satisfies the above equation\n",
    "    \n",
    "    if(a * x + b * y + c * z + d == 0):\n",
    "        print(\"Coplanar\")\n",
    "    else:\n",
    "        print(\"Not Coplanar\")\n",
    "     \n",
    "     \n",
    "# Driver Code\n",
    "x1 = -9\n",
    "y1 = 8\n",
    "z1 = 1\n",
    "x2 = 10\n",
    "y2 = -15\n",
    "z2 = 5\n",
    "x3 = 6\n",
    "y3 = 6\n",
    "z3 = -12\n",
    "x4 = 8\n",
    "y4 = -4\n",
    "z4 = -3\n",
    "\n",
    "sol = equation_plane(x1, y1, z1, x2, y2, z2, x3, y3, z3, x4, y4, z4)\n",
    "print(sol)"
   ]
  }
 ],
 "metadata": {
  "kernelspec": {
   "display_name": "Python 3 (ipykernel)",
   "language": "python",
   "name": "python3"
  },
  "language_info": {
   "codemirror_mode": {
    "name": "ipython",
    "version": 3
   },
   "file_extension": ".py",
   "mimetype": "text/x-python",
   "name": "python",
   "nbconvert_exporter": "python",
   "pygments_lexer": "ipython3",
   "version": "3.9.7"
  }
 },
 "nbformat": 4,
 "nbformat_minor": 5
}
